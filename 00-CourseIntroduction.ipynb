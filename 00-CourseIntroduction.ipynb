{
 "cells": [
  {
   "cell_type": "markdown",
   "id": "e7d17116",
   "metadata": {},
   "source": [
    "<img src='./fig/vertical_COMILLAS_COLOR.jpg' style= 'width:70mm'>\n",
    "<h2 style='font-family: Optima;color:#ecac00'>\n",
    "Máster en Big Data. Tecnología y Analítica Avanzada (MBD).\n",
    "</h2>\n",
    "</br>\n",
    "<h2 style='font-family: Optima;color:#ecac00'>\n",
    "Fundamentos Matemáticos del Análisis de Datos (FMAD). 2022-2023.\n",
    "</h2>\n",
    "\n",
    "<h1 style='font-family: Optima;color:#ecac00'>\n",
    "Course Overview\n",
    "</h1>"
   ]
  },
  {
   "cell_type": "markdown",
   "id": "9083b642",
   "metadata": {},
   "source": [
    "## Syllabus\n",
    "\n",
    "+ [Available at this link](https://repositorio.comillas.edu/xmlui/bitstream/handle/11531/58917/Gu%C3%ADa%20Docente.pdf)\n",
    "\n",
    "## Contact Info\n",
    "\n",
    "+ Fernando San Segundo, [fsansegundo@comillas.edu](mailto://fsansegundo@comillas.edu). Office: D-412.\n",
    "+ Santiago Fernández, [sfgonzalez@icai.comillas.edu](mailto://sfgonzalez@icai.comillas.edu). Office: D-201.  \n",
    "\n",
    "Office hours to be announced (but please alway send us an email beforehand!).\n",
    "\n",
    "## Moodle Site \n",
    "\n",
    "+ Use this link [Moodle](https://sifo.comillas.edu/course/view.php?id=38584). \n",
    "\n",
    "\n",
    "## Course Description\n",
    "\n",
    "+ This course is a primer in Statistics with a special emphasis on its mathematical foundations. The subject aims to introduce the student to the language of Statistics and to basic, but fundamental, concepts such as distributions, probability inference and statistical models. Our approach is practical and conceptual, using the computational tools as a mean to gain an insight into the central ideas of Statistics.\n",
    "\n",
    "+ The subject also provides a first course of the Python language by combining exposure of the main concepts in Statistics and tutorial Python sessions. Our focus will be in a modern but well established flavor of the Python language using libraries such as NumPy, Pandas, SciPy, Scikit-learn and Seaborn to describe the data analysis steps as a workflow.\n",
    "\n",
    "+ We will also introduce some auxiliary tools that form an important part of the Python data analysis ecosystem. Git and GitHub have become a natural setting for collaborative work and communication inside a team.\n",
    "\n",
    "+ The basic structure of the Data Analysis process is, according to Wickham and Grolemund (2016) this one:  \n",
    "<img src='./fig/01-fig00.png' style= 'width:200mm'>\n",
    "\n",
    "  We will learn how to use the foundational Python Data Science toolkit to follow all the steps of this process. \n",
    "\n",
    "+ This is the well known [Drew Conway's Diagram of Data Science](http://drewconway.com/zia/2013/3/26/the-data-science-venn-diagram):\n",
    "<img src='./fig/Data_Science_VD.png' style= 'width:120mm'>\n",
    "\n",
    "  We will be exploring the upper part of this diagram, to provide you with the skills that you will need in other courses. \n",
    "  \n",
    "+ The original Conway diagram warns about a danger zone that Data Science practitioners should avoid. But there is a second danger zone for Machine Learning applicatyions that you must be aware of, well illustrated by this [XKCD](https://xkcd.com/1831) cartoon:\n",
    "<img src=\"https://imgs.xkcd.com/comics/here_to_help.png\" style= 'width:240mm'>\n"
   ]
  },
  {
   "cell_type": "markdown",
   "id": "cdf6ba00",
   "metadata": {},
   "source": [
    "## Software Setup and Previous Versions of the Code and Course Slides\n",
    "\n",
    "+ Previous versions of this course used the R language. You can find the course slides for the last version at this [GitHub repository](https://github.com/mbdfmad/fmad2122). Python was chosen this year to meet the requirements of other courses in the MBD. But R is a very useful language to add to your data science toolbox and portfolio. We encourage you to take a look at the R material for this course \n",
    "\n",
    "+ We have prepared software setup instructions for:\n",
    "    + [Windows users](01-Software_Setup_Windows_Version.ipynb)\n",
    "    + [MacOS users](01M-Software_Setup_MacOS_Version.ipynb)\n",
    "    \n",
    "  If you are planning to use Linux for this course please let us know."
   ]
  },
  {
   "cell_type": "markdown",
   "id": "9c508e3b",
   "metadata": {},
   "source": [
    "## Contents\n",
    "\n",
    "+ **Unit 1. Types of Variables and Basic Data Structures**  \n",
    "  1.1 The basic structure of a data analysis.  \n",
    "  1.2 Types of variables and tabular data.  \n",
    "  1.3 Basic computational tools and data skills.  \n",
    " \n",
    "+ **Unit 2. Graphics and Exploratory Data Analysis**  \n",
    "  2.1 The correspondence between basic variable type and graphs.  \n",
    "  2.2 Common data science graph types using Python libraries.  \n",
    "  2.3 Statistical summaries of data with pandas and NumPy.\n",
    " \n",
    "+ **Unit 3. Distributions**  \n",
    "  3.1 Distributions as theoretical models. Python skills necessary to work with distributions.  \n",
    "  3.2 Measures of position and spread. Simulation of random processes and variables.\n",
    " \n",
    "+ **Unit 4. Probability**  \n",
    "  4.1 Discrete Probability. Laplace’s Rule and Bayes Theorem.  \n",
    "  4.2 Axioms of Probability.  \n",
    "  4.3 Contingency Tables.\n",
    " \n",
    "+ **Unit 5. Random Variables**  \n",
    "  5.1 Discrete Random Variables.  \n",
    "  5.2 Binomial Variables.  \n",
    "  5.3 Continuous Random Variables.  \n",
    "  5.4 Normal Random Variables.\n",
    "\n",
    "+ **Unit 6. Inference**  \n",
    "  6.1 Sampling Distributions and Central Limit Theorem.  \n",
    "  6.2 Confidence Intervals.  \n",
    "  6.3 Hypothesis Test.\n",
    " \n",
    "+ **Unit 7. Linear and Logistic Regression**  \n",
    "  7.1 Covariance.  \n",
    "  7.2 Linear Regression Model.  \n",
    "  7.3 Logistic Regression Model.\n",
    "\n",
    "+ **Unit 8. Bayesian Statistics**  \n",
    "    8.1 Introduction to Bayesian Statistics.  \n",
    "    8.2 Monte Carlo Methods and Bayesian Software."
   ]
  },
  {
   "cell_type": "markdown",
   "id": "65aa5efd",
   "metadata": {},
   "source": [
    "## Course Grading\n",
    "\n",
    "+ Quizzes: 10%\n",
    "+ Final exam: 30%\n",
    "+ Lab assignments: 35%\n",
    "+ Final project (teamwork): 25%"
   ]
  },
  {
   "cell_type": "markdown",
   "id": "966e01e9",
   "metadata": {},
   "source": [
    "## References\n",
    "\n",
    "+ [Python Data Science Handbook](https://jakevdp.github.io/PythonDataScienceHandbook/) Vanderplas, J. (2016) O'Reilly. Freely available online.ISBN: 978-1491912058\n",
    "+ [Python for Data Science.](https://nostarch.com/python-data-science) Vasiliev, Yuli. (2022) No Starch Press. ISBN-13: 978-1718502215 (ebook)\n",
    "+ [Pandas in Action.](https://www.manning.com/books/pandas-in-action) Paskhaver, B (2021) Manning Publications Co. ISBN 978-1617297434\n",
    "+ [Hands-On Data Analysis with Pandas, Second Edition.](https://www.packtpub.com/product/hands-on-data-analysis-with-pandas-second-edition/9781800563452) Molin, S (2021)  Packt Publishing Ltd. ISBN 978-1800563452\n",
    "+ [R for Data Science.](https://r4ds.had.co.nz/index.html) Grolemund, G. and Wickham, H. (2017).  O’Reilly. Freely available online. ISBN- 13: 978-1491910399"
   ]
  },
  {
   "cell_type": "code",
   "execution_count": null,
   "id": "d96791e2",
   "metadata": {},
   "outputs": [],
   "source": []
  }
 ],
 "metadata": {
  "kernelspec": {
   "display_name": "Python 3 (ipykernel)",
   "language": "python",
   "name": "python3"
  },
  "language_info": {
   "codemirror_mode": {
    "name": "ipython",
    "version": 3
   },
   "file_extension": ".py",
   "mimetype": "text/x-python",
   "name": "python",
   "nbconvert_exporter": "python",
   "pygments_lexer": "ipython3",
   "version": "3.10.5"
  },
  "toc": {
   "base_numbering": 1,
   "nav_menu": {},
   "number_sections": true,
   "sideBar": true,
   "skip_h1_title": false,
   "title_cell": "Table of Contents",
   "title_sidebar": "Contents",
   "toc_cell": false,
   "toc_position": {},
   "toc_section_display": true,
   "toc_window_display": false
  }
 },
 "nbformat": 4,
 "nbformat_minor": 5
}
