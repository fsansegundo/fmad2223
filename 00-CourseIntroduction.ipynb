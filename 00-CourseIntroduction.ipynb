{
 "cells": [
  {
   "cell_type": "markdown",
   "id": "e7d17116",
   "metadata": {},
   "source": [
    "<span style='background:blue; color:white'>\n",
    "Master en Big Data.\n",
    "</br>\n",
    "Fundamentos Matemáticos del Análisis de Datos (FMAD).\n",
    "</br> \n",
    "Sesión 1: Presentación. Instalación de Software y Primeros Pasos\n",
    "</span>"
   ]
  },
  {
   "cell_type": "markdown",
   "id": "0e59f553",
   "metadata": {},
   "source": [
    "# Course Overview"
   ]
  },
  {
   "cell_type": "markdown",
   "id": "9083b642",
   "metadata": {},
   "source": [
    "## Syllabus\n",
    "\n",
    "+ [Available at this link](https://repositorio.comillas.edu/xmlui/bitstream/handle/11531/58917/Gu%C3%ADa%20Docente.pdf)\n",
    "\n",
    "## Contact Info\n",
    "\n",
    "+ Fernando San Segundo, [fsansegundo@comillas.edu](mailto://fsansegundo@comillas.edu). Office: D-412.\n",
    "+ Santiago Fernández, [sfgonzalez@icai.comillas.edu](mailto://sfgonzalez@icai.comillas.edu). Office: D-201.  \n",
    "\n",
    "Office hours to be announced (but please alway send us an email beforehand!).\n",
    "\n",
    "## Moodle Site \n",
    "\n",
    "+ Use this link [Moodle](https://sifo.comillas.edu/course/view.php?id=38584). \n",
    "\n",
    "\n",
    "## \n",
    "+ La asignatura se plantea con un enfoque práctico y conceptual. Se trata de presentar las ideas fundamentales de la Estadística y el Análisis de Datos y hacerlo mediante la práctica computacional, usando el ecosistema de R como herramienta."
   ]
  },
  {
   "cell_type": "markdown",
   "id": "cdf6ba00",
   "metadata": {},
   "source": [
    "## Software Setup"
   ]
  },
  {
   "cell_type": "code",
   "execution_count": null,
   "id": "fef72015",
   "metadata": {},
   "outputs": [],
   "source": []
  },
  {
   "cell_type": "code",
   "execution_count": null,
   "id": "c2b0597e",
   "metadata": {},
   "outputs": [],
   "source": []
  },
  {
   "cell_type": "code",
   "execution_count": null,
   "id": "5da2ece1",
   "metadata": {},
   "outputs": [],
   "source": []
  },
  {
   "cell_type": "code",
   "execution_count": null,
   "id": "568c0b27",
   "metadata": {},
   "outputs": [],
   "source": []
  },
  {
   "cell_type": "markdown",
   "id": "966e01e9",
   "metadata": {},
   "source": [
    "## Referencias bibliográficas y recursos online\n",
    "\n",
    "+ [Python Data Science Handbook, Jake VanderPlas](https://jakevdp.github.io/PythonDataScienceHandbook/)"
   ]
  },
  {
   "cell_type": "code",
   "execution_count": null,
   "id": "d96791e2",
   "metadata": {},
   "outputs": [],
   "source": []
  }
 ],
 "metadata": {
  "kernelspec": {
   "display_name": "Python 3 (ipykernel)",
   "language": "python",
   "name": "python3"
  },
  "language_info": {
   "codemirror_mode": {
    "name": "ipython",
    "version": 3
   },
   "file_extension": ".py",
   "mimetype": "text/x-python",
   "name": "python",
   "nbconvert_exporter": "python",
   "pygments_lexer": "ipython3",
   "version": "3.10.5"
  },
  "toc": {
   "base_numbering": 1,
   "nav_menu": {},
   "number_sections": true,
   "sideBar": true,
   "skip_h1_title": false,
   "title_cell": "Table of Contents",
   "title_sidebar": "Contents",
   "toc_cell": false,
   "toc_position": {},
   "toc_section_display": true,
   "toc_window_display": false
  }
 },
 "nbformat": 4,
 "nbformat_minor": 5
}
