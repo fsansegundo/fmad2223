{
 "cells": [
  {
   "cell_type": "markdown",
   "id": "eb947e48",
   "metadata": {},
   "source": [
    "<img src='./fig/vertical_COMILLAS_COLOR.jpg' style= 'width:70mm'>\n",
    "\n",
    "<h1 style='font-family: Optima;color:#ecac00'>\n",
    "Máster en Big Data. Tecnología y Analítica Avanzada (MBD).\n",
    "<a class=\"tocSkip\">\n",
    "</h1>\n",
    "\n",
    "<h1 style='font-family: Optima;color:#ecac00'>\n",
    "Fundamentos Matemáticos del Análisis de Datos (FMAD). 2022-2023.\n",
    "<a class=\"tocSkip\">\n",
    "</h1>\n",
    "\n",
    "<h1 style='font-family: Optima;color:#ecac00'>\n",
    "Assignment 1\n",
    "<a class=\"tocSkip\">    \n",
    "</h1>  "
   ]
  },
  {
   "cell_type": "markdown",
   "id": "40052904",
   "metadata": {},
   "source": [
    "# Preliminaries\n",
    "\n",
    "+ You are expected to submit your answers using the Jupyter notebook format. If you want to include additional files (data, scripts, figures, etc.) create a zip file containing all the files and email that file to us. \n",
    "\n",
    "# Question 1\n",
    "\n",
    "+ We will be using the data in this file \n",
    "[cholesterol.csv](https://gist.githubusercontent.com/fsansegundo/ee991e53e1a571dd34034c42b5516eae/raw/2206455b5772e90c5a2a24a3f42a84408fd1d1c5/cholesterol.csv)  \n",
    "The data come from a study conducted at the *University of Virginia School of Medicine* dealing with the prevalence of obesity, diabetes and other risk factors for heart disease. You can find further information about the study using this link\n",
    "[https://biostat.app.vumc.org/wiki/pub/Main/DataSets/diabetes.html](https://biostat.app.vumc.org/wiki/pub/Main/DataSets/diabetes.html)  \n",
    "\n",
    "+ Load the data set into a pandas DataFrame called `chlstrl`.\n",
    "\n",
    "+ Gather some basic information about the data set: how many observations are there, what are the variables and their types,...\n",
    "\n",
    "+ Check for missing data.\n",
    "\n",
    "+ The exploratory analysis should cover all types of variables in this table. That is, you should *at least* study one variable for each type of variable present in the table. The analysis shoould contain:\n",
    "  - For quantitative variables (continuous or discrete):  \n",
    "    - Basic numeric summary (mean, median, quartiles, sd).  \n",
    "    - Graphics (the right ones for that type of data, possibly more than one graph per variable).  \n",
    "  - For factors :  \n",
    "    - Frecuency tables (absolute and relative).  \n",
    "    - Grafics (bar plot).  \n",
    "\n",
    "+ The `height` and `weight` variables are expressed in inches) and pounds respectively. One pound is $\\approx$ 0.454kg and an inch is $\\approx$ 0.0254m.  Use pandas to convert those columns to meters and kilograms respectively.  The new columns should replace the originals. \n",
    "\n",
    "+ Using those values of `height` and `weight` add a new column called `BMI`, defined through:\n",
    "$$BMI = \\dfrac{weight}{height^2}$$\n",
    " \n",
    "\n",
    "+ Create a new column called `ageGroup` dividing (binning) age in these three levels:\n",
    "  ```\n",
    "    (10,40], (40,70], (70,100]\n",
    "  ```\n",
    "\n",
    "+ Find out how many observations are there for each level of `ageGroup`. Now, using only observations corresponding to women, , what is the mean of cholesterol level and BMI for each of those age groups?\n"
   ]
  },
  {
   "cell_type": "code",
   "execution_count": null,
   "id": "f2d556df",
   "metadata": {},
   "outputs": [],
   "source": []
  }
 ],
 "metadata": {
  "kernelspec": {
   "display_name": "Python 3 (ipykernel)",
   "language": "python",
   "name": "python3"
  },
  "language_info": {
   "codemirror_mode": {
    "name": "ipython",
    "version": 3
   },
   "file_extension": ".py",
   "mimetype": "text/x-python",
   "name": "python",
   "nbconvert_exporter": "python",
   "pygments_lexer": "ipython3",
   "version": "3.10.5"
  }
 },
 "nbformat": 4,
 "nbformat_minor": 5
}
