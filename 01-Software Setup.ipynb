{
 "cells": [
  {
   "cell_type": "markdown",
   "id": "0f936d05",
   "metadata": {},
   "source": [
    "# Software Setup"
   ]
  },
  {
   "cell_type": "markdown",
   "id": "3047c6dc",
   "metadata": {},
   "source": [
    "## Windows computers\n",
    "\n",
    "**Important Note:** If you already have a working setup of Anaconda Python (with Python 3.8 or 3.9) then skip to the [*Create a Conda Environment for the Course*](#CreateCondaEnv) subsection. If your Python version is older: get updated, people!\n",
    "\n",
    "### Installing Anaconda Python"
   ]
  },
  {
   "cell_type": "markdown",
   "id": "ca49b163",
   "metadata": {},
   "source": [
    "+ Begin by navigating to the [Anaconda Web Page](https://www.anaconda.com/):\n",
    "\n",
    "    <img src=\"fig/000-WebAnaconda.PNG\" width=50%/>\n",
    "\n",
    "+ Click the download link. When the download finishes, run the Anaconda Installer.\n",
    "\n",
    "    <img src=\"fig/001-AnacondaSetup01.PNG\" width=50%/>\n",
    "    \n",
    "+ In the following setup dialogs you can (and probably should) accept all the defaults. **Be careful with this step!** Unles you have a good reason not to, please leave the first box unmarked, as illustrated here:     \n",
    "\n",
    "    <img src=\"fig/001-AnacondaSetup02.PNG\" width=50%/>\n",
    "    \n",
    "+ When setup is completed you will see something like this:\n",
    "\n",
    "    <img src=\"fig/001-AnacondaSetup03.PNG\" width=50%/>\n",
    "    \n",
    "    Click on *Next* and do the same in the final dialogs (consisting in software ads and tutorials, we suggest to skip all of them). \n",
    "\n",
    "\n",
    "\n",
    "\n"
   ]
  },
  {
   "attachments": {},
   "cell_type": "markdown",
   "id": "62317553",
   "metadata": {},
   "source": [
    "\n",
    "### Create a Conda Environment for the Course <a name=\"CreateCondaEnv\"></a>\n",
    "\n",
    "+ A conda environment allows us to organize our work in projects, keeping each project dependencies isolated from the rest of your work. It is also the best way to avoid running into the potentially catastrophic situation in where you have several Python versions and they conflict to [create a mess](https://xkcd.com/1987/). We urge you to **always use environments** to organize your work in Python. You can learn more about the use of Conda environments [in this link](https://docs.conda.io/projects/conda/en/latest/user-guide/tasks/manage-environments.html#). And to learn more about environments in Python in general, you can check these two links:\n",
    "    + [A Guide to Python’s Virtual Environments](https://towardsdatascience.com/virtual-environments-104c62d48c54)\n",
    "    + [The Definitive Guide to Conda Environments](https://towardsdatascience.com/a-guide-to-conda-environments-bc6180fc533)\n",
    "\n",
    "+ We will be using a Conda environment named `fmad` for this course. To create the environment we will use the *Anaconda Terminal (or Anaconda Prompt)*. Hit the Windows key and begint typing *Anaconda*. You should see results like this: \n",
    "\n",
    "    <img src=\"fig/002-AnacondaWindowsMenu.PNG\" width=50%/>\n",
    "    \n",
    "    The Anaconda Navigator is a GUI interface to manage your Anaconda setup. Some people like it a lot, but we will be using mostly the (old school) terminal-based command-line approach. Thus, start the *Anaconda Prompt* and a window like this one will open:\n",
    "\n",
    "    <img src=\"fig/003-AnacondaPrompt.PNG\" width=50%/>\n",
    "    \n",
    "    This terminal window is where most of our *Python management* will occur (but not the actual coding!)\n",
    "    \n",
    "+ In that prompt execute the command \n",
    "\n",
    "    `conda create --name fmad`\n",
    "    \n",
    "    and after some moments something like this should happen  \n",
    "\n",
    "    <img src=\"fig/004-AnacondaEnvironmentCreate01.png\" width=50%/>\n",
    "    \n",
    "    For the time being ignore the warning about updating Conda (we can do it later) and just answer *y* and hit *Enter*. A successful environment creation looks like:\n",
    "\n",
    "    <img src=\"fig/004-AnacondaEnvironmentCreate02.png\" width=30%/>\n",
    "    \n",
    "### Activate the environment and install the first libraries    \n",
    "    \n",
    "\n",
    "    \n",
    "    \n",
    "\n"
   ]
  },
  {
   "cell_type": "code",
   "execution_count": null,
   "id": "4f25e377",
   "metadata": {},
   "outputs": [],
   "source": []
  },
  {
   "cell_type": "code",
   "execution_count": null,
   "id": "3112ad66",
   "metadata": {},
   "outputs": [],
   "source": []
  },
  {
   "cell_type": "code",
   "execution_count": null,
   "id": "455b42f6",
   "metadata": {},
   "outputs": [],
   "source": []
  }
 ],
 "metadata": {
  "kernelspec": {
   "display_name": "Python 3 (ipykernel)",
   "language": "python",
   "name": "python3"
  },
  "language_info": {
   "codemirror_mode": {
    "name": "ipython",
    "version": 3
   },
   "file_extension": ".py",
   "mimetype": "text/x-python",
   "name": "python",
   "nbconvert_exporter": "python",
   "pygments_lexer": "ipython3",
   "version": "3.10.5"
  }
 },
 "nbformat": 4,
 "nbformat_minor": 5
}
