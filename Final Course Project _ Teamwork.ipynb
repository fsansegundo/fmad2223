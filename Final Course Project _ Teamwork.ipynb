{
 "cells": [
  {
   "cell_type": "markdown",
   "id": "1b45de53",
   "metadata": {},
   "source": [
    "<img src='./fig/vertical_COMILLAS_COLOR.jpg' style= 'width:70mm'>\n",
    "\n",
    "<h1 style='font-family: Optima;color:#ecac00'>\n",
    "Máster en Big Data. Tecnología y Analítica Avanzada (MBD).\n",
    "<a class=\"tocSkip\">\n",
    "</h1>\n",
    "\n",
    "<h1 style='font-family: Optima;color:#ecac00'>\n",
    "Fundamentos Matemáticos del Análisis de Datos (FMAD). 2022-2023.\n",
    "<a class=\"tocSkip\">\n",
    "</h1>\n",
    "\n",
    "<h1 style='font-family: Optima;color:#ecac00'>\n",
    "Final Course Project: Teamwork\n",
    "<a class=\"tocSkip\">   \n",
    "</h1>  \n",
    "    "
   ]
  },
  {
   "cell_type": "markdown",
   "id": "89c71f85",
   "metadata": {},
   "source": [
    "+ The goal of the Final Course Project is to test all the Data Analysis skills and Python tools that we have met  in the course. In order to that you should write a report, in the form of a Jupyter notebook, describing the analysis of a data set. See below for more details about the choice of a data set.\n",
    "\n",
    "+ Keep it relevant! Using Jupyter it is easy to make reports with extension equivalent to 100 or more printed pages. Make sure that the information you provide in your report is useful, do not include uncommented figures, long data tables, etc. \n",
    "\n",
    "# Main Goal of the Project\n",
    "\n",
    "+ The main goal of this project is to give you the opportunity to showcase the Exploratory Data Analysis (EDA) and Python skills that you have been practicing in this course. That is, you should select a *rich enough* data set so that you can use it to (at least) do the following:\n",
    "    + Describe and visualize all common types of variables (qualitative, discrete, continuous). \n",
    "    + In particular make sure that you include a rich set of graphs, covering all the standard types of graphs (bar plots, histograms, density curves, bar plots, scatter plots to name the most relevant). Bot remember: do not include a graph without including a comment about the information it provides!\n",
    "    + Make some inference about the variables in the data set: get some confidence intervals, test hypothesis, etc.\n",
    "    + Analyze the possible relations between variables in you data. The kind of analysis we look for is exploratory or based in elementary linear or logistic models. There is no need for more complicated modeling, you will have plenty of that in Machine Learning. \n",
    "    + Some amount of *Data Wrangling* (dealing with missing data, outliers, untidy data sets, etc.) is highly encouraged and will be taken into account for grading, but keep in mind that it is easy to get lost in this! Keep it under control and talk to us when in doubt.\n",
    "\n",
    "\n",
    "# Suggested Data Sets for the Project\n",
    "\n",
    "+ **Kaggle Data Sets**. [Kaggle](https://www.kaggle.com) is one of the most popular websites in the Data Science and Machine Learning communities. From the main page use the *DataSets* link on top and use the filters in the search field to narrow down the search. We suggest some popular data sets but feel free to explore.\n",
    "    \n",
    "\n",
    "+ The **[UC Irvine Machine Learning Repository](https://archive.ics.uci.edu/ml/datasets.php)** contains a smaller collection of data sets, but they are very popular, widely used and in general good quality.\n",
    "\n",
    "+ **Open Data Portals from Institutions and Organizations** Such as the European Union, Spanish Government or Parliament, Regional or Local Institutions. Also many NGOs, newspapers, etc. Many of these resources contain a huge collection of data sets and the main problem is usually filtering out an interesting one. If you run into trouble or if you have doubts about whether a particular data set is adequate for this project please let us know.\n",
    "\n",
    "+ Remember in any case that you must clearly identify and cite the source of your data.\n",
    "\n",
    "# Submission and Deadlines\n",
    "\n",
    "+ The project must be submitted as a zip or similarly compressed file containing a Jupyter notebook (or set of notebooks) and all of the auxiliary files that your code requires (data sets must be included or linked for download). \n",
    "+ In any case there must be a main Jupyter notebook called *Final_Project_Main* which contains a section with a description of the project. If you decide to keep all your code in a file then this will be your only notebook, but if you use more than a notebook then the role they play and the order in which they should be read must be clearly described in the main notebook. Similarly if you have any other kind of code files outside notebooks. \n",
    "+ If you use any Python. module besides those that we have seen in class then you must clearly state that in the first cells of the main notebook. Do not include setup commands for these modules in your notebooks.  \n",
    "\n",
    "+ **Deadlines:** \n",
    "    + We should receive an email with your **project proposal** (choice of dataset and a basic sketch of what you aim to do) **no later than Friday 23rd September**.\n",
    "    + The final version of the project should be submitted **no later than Friday 11th November**\n"
   ]
  }
 ],
 "metadata": {
  "kernelspec": {
   "display_name": "Python 3 (ipykernel)",
   "language": "python",
   "name": "python3"
  },
  "language_info": {
   "codemirror_mode": {
    "name": "ipython",
    "version": 3
   },
   "file_extension": ".py",
   "mimetype": "text/x-python",
   "name": "python",
   "nbconvert_exporter": "python",
   "pygments_lexer": "ipython3",
   "version": "3.10.5"
  }
 },
 "nbformat": 4,
 "nbformat_minor": 5
}
