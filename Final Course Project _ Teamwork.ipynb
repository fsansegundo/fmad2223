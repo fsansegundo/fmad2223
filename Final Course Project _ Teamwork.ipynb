{
 "cells": [
  {
   "cell_type": "markdown",
   "id": "1b45de53",
   "metadata": {},
   "source": [
    "<img src='./fig/vertical_COMILLAS_COLOR.jpg' style= 'width:70mm'>\n",
    "\n",
    "<h1 style='font-family: Optima;color:#ecac00'>\n",
    "Máster en Big Data. Tecnología y Analítica Avanzada (MBD).\n",
    "<a class=\"tocSkip\">\n",
    "</h1>\n",
    "\n",
    "<h1 style='font-family: Optima;color:#ecac00'>\n",
    "Fundamentos Matemáticos del Análisis de Datos (FMAD). 2022-2023.\n",
    "<a class=\"tocSkip\">\n",
    "</h1>\n",
    "\n",
    "<h1 style='font-family: Optima;color:#ecac00'>\n",
    "Final Course Project: Teamwork\n",
    "<a class=\"tocSkip\">   \n",
    "</h1>  \n",
    "    "
   ]
  },
  {
   "cell_type": "markdown",
   "id": "89c71f85",
   "metadata": {},
   "source": [
    "+ The goal of the Final Course Project is to test all the Data Analysis skills and Python tools that we have met  in the course. In order to that you should write a report, in the form of a Jupyter notebook, describing the analysis of a data set. See below for more details about the choice of a data set.\n",
    "\n",
    "+ Keep it relevant! Using Jupyter it is easy to make reports with extension equivalent to 100 or more printed pages. Make sure that the information you provide in your report is useful, do not include uncommented figures, long data tables, etc. \n",
    "\n",
    "+ "
   ]
  }
 ],
 "metadata": {
  "kernelspec": {
   "display_name": "Python 3 (ipykernel)",
   "language": "python",
   "name": "python3"
  },
  "language_info": {
   "codemirror_mode": {
    "name": "ipython",
    "version": 3
   },
   "file_extension": ".py",
   "mimetype": "text/x-python",
   "name": "python",
   "nbconvert_exporter": "python",
   "pygments_lexer": "ipython3",
   "version": "3.10.5"
  }
 },
 "nbformat": 4,
 "nbformat_minor": 5
}
