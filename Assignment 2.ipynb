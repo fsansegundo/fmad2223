{
 "cells": [
  {
   "cell_type": "markdown",
   "id": "7dfd2619",
   "metadata": {},
   "source": [
    "<img src='./fig/vertical_COMILLAS_COLOR.jpg' style= 'width:70mm'>\n",
    "\n",
    "<h1 style='font-family: Optima;color:#ecac00'>\n",
    "Máster en Big Data. Tecnología y Analítica Avanzada (MBD).\n",
    "<a class=\"tocSkip\">\n",
    "</h1>\n",
    "\n",
    "<h1 style='font-family: Optima;color:#ecac00'>\n",
    "Fundamentos Matemáticos del Análisis de Datos (FMAD). 2022-2023.\n",
    "<a class=\"tocSkip\">\n",
    "</h1>\n",
    "\n",
    "<h1 style='font-family: Optima;color:#ecac00'>\n",
    "Assignment 2\n",
    "<a class=\"tocSkip\">    \n",
    "</h1>  \n",
    "   \n",
    "\n",
    "<h1 style='font-family: Optima;color:red'>\n",
    "Due Date: 2009-09-21\n",
    "<a class=\"tocSkip\">    \n",
    "</h1>  \n",
    "\n",
    "    \n",
    "    "
   ]
  },
  {
   "cell_type": "markdown",
   "id": "8970b385",
   "metadata": {},
   "source": [
    "# Preliminaries\n",
    "\n",
    "+ You are expected to submit your answers using the Jupyter notebook format. You can use this notebook as a template, but make sure to add your personal information (name and email) at the top of the notebook\n",
    "\n",
    "+ If you want to include additional files (data, scripts, figures, etc.) create a zip file containing all the files and email that file to us. \n",
    "\n",
    "# Question 1\n",
    "\n",
    "\n",
    "+ Solve the second of the Chevalier de Méré problems using Python.  \n",
    "  *Optional (and mathwise harder):* Can you find a theoretical argument for the answer?\n",
    "\n",
    "# Question 2\n",
    "\n",
    "+ Using Python illustrate the Birthday Paradox and find the smallest number for which the probability is > 50%.\n",
    "\n",
    "# Question 3\n",
    "\n",
    "+ Find the probability that a pin (four digit number) has one or more repeated digits. Check your answer using Python. \n",
    "\n",
    "# Question 4\n",
    "\n",
    "+ Answer the Bayes exercise about the hospital with two ors in Session 04. Get Python to do the math for you. IN doing this, try to write a very generic code so that if you had a hospital with 50 ors your code would need minimal changes. The more generic the code, the more credit you get for this exercise. \n",
    "\n",
    "# Question 5\n",
    "\n",
    "+ Do exercises S04-003 and S04-004 from Session 04 on Random Variables."
   ]
  }
 ],
 "metadata": {
  "kernelspec": {
   "display_name": "Python 3 (ipykernel)",
   "language": "python",
   "name": "python3"
  },
  "language_info": {
   "codemirror_mode": {
    "name": "ipython",
    "version": 3
   },
   "file_extension": ".py",
   "mimetype": "text/x-python",
   "name": "python",
   "nbconvert_exporter": "python",
   "pygments_lexer": "ipython3",
   "version": "3.10.5"
  }
 },
 "nbformat": 4,
 "nbformat_minor": 5
}
