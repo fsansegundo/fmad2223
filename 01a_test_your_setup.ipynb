{
 "cells": [
  {
   "cell_type": "markdown",
   "id": "6eb2245e",
   "metadata": {},
   "source": [
    "# Python Setup Checks\n",
    "\n",
    "To test that your python setup is looking good please select the `Cell` menu above and click on `Run All`"
   ]
  },
  {
   "cell_type": "markdown",
   "id": "3678d957",
   "metadata": {},
   "source": [
    "## Check your Conda environment and Python version\n",
    "\n",
    "Look for the active environment in the output of the following command. It should be `fmad`. Also check the Python version you are using."
   ]
  },
  {
   "cell_type": "code",
   "execution_count": 21,
   "id": "dad8a685",
   "metadata": {},
   "outputs": [
    {
     "name": "stdout",
     "output_type": "stream",
     "text": [
      "\r\n",
      "     active environment : fmad\r\n",
      "    active env location : /Users/fernando/miniforge3/envs/fmad\r\n",
      "            shell level : 3\r\n",
      "       user config file : /Users/fernando/.condarc\r\n",
      " populated config files : /Users/fernando/miniforge3/.condarc\r\n",
      "                          /Users/fernando/.condarc\r\n",
      "          conda version : 4.14.0\r\n",
      "    conda-build version : not installed\r\n",
      "         python version : 3.9.5.final.0\r\n",
      "       virtual packages : __osx=12.5.1=0\r\n",
      "                          __unix=0=0\r\n",
      "                          __archspec=1=arm64\r\n",
      "       base environment : /Users/fernando/miniforge3  (writable)\r\n",
      "      conda av data dir : /Users/fernando/miniforge3/etc/conda\r\n",
      "  conda av metadata url : None\r\n",
      "           channel URLs : https://conda.anaconda.org/conda-forge/osx-arm64\r\n",
      "                          https://conda.anaconda.org/conda-forge/noarch\r\n",
      "          package cache : /Users/fernando/miniforge3/pkgs\r\n",
      "                          /Users/fernando/.conda/pkgs\r\n",
      "       envs directories : /Users/fernando/miniforge3/envs\r\n",
      "                          /Users/fernando/.conda/envs\r\n",
      "               platform : osx-arm64\r\n",
      "             user-agent : conda/4.14.0 requests/2.28.1 CPython/3.9.5 Darwin/21.6.0 OSX/12.5.1\r\n",
      "                UID:GID : 501:20\r\n",
      "             netrc file : None\r\n",
      "           offline mode : False\r\n",
      "\r\n"
     ]
    }
   ],
   "source": [
    "!conda info"
   ]
  },
  {
   "cell_type": "markdown",
   "id": "ba5cfe67",
   "metadata": {},
   "source": [
    "## Check the Basic Libraries for Data Science with Python\n",
    "\n",
    "### NumPy \n",
    "\n",
    "Check the numpy version and make sure that no errors appear in the output of the code cells below."
   ]
  },
  {
   "cell_type": "code",
   "execution_count": 22,
   "id": "f9bba367",
   "metadata": {},
   "outputs": [
    {
     "name": "stdout",
     "output_type": "stream",
     "text": [
      "1.23.2\n"
     ]
    }
   ],
   "source": [
    "import numpy as np\n",
    "print(np.__version__)"
   ]
  },
  {
   "cell_type": "markdown",
   "id": "134ec87b",
   "metadata": {},
   "source": [
    "**Note about standard imports:**\n",
    "\n",
    "+ Many of the Python libraries we will use have standard import names. Even though these are not official names, we strongly recommend their use, in order to make your code readable and compatible. For example, as we have just seen, NumPy should always be imported as `np`."
   ]
  },
  {
   "cell_type": "code",
   "execution_count": 23,
   "id": "00922089",
   "metadata": {},
   "outputs": [
    {
     "name": "stdout",
     "output_type": "stream",
     "text": [
      "639 ns ± 2.27 ns per loop (mean ± std. dev. of 7 runs, 1,000,000 loops each)\n"
     ]
    }
   ],
   "source": [
    "a = np.random.rand(1000)\n",
    "%timeit a @ a"
   ]
  },
  {
   "cell_type": "markdown",
   "id": "64b5aaf9",
   "metadata": {},
   "source": [
    "### Pandas\n",
    "\n",
    "Similarly for Pandas and the rest of the libraries."
   ]
  },
  {
   "cell_type": "code",
   "execution_count": 24,
   "id": "e9456079",
   "metadata": {},
   "outputs": [
    {
     "name": "stdout",
     "output_type": "stream",
     "text": [
      "1.4.3\n"
     ]
    }
   ],
   "source": [
    "# Standard import for Pandas\n",
    "import pandas as pd\n",
    "print(pd.__version__)"
   ]
  },
  {
   "cell_type": "markdown",
   "id": "714f588f",
   "metadata": {},
   "source": [
    "### MatplotLib and Seaborn"
   ]
  },
  {
   "cell_type": "code",
   "execution_count": 25,
   "id": "c925a7ec",
   "metadata": {},
   "outputs": [
    {
     "name": "stdout",
     "output_type": "stream",
     "text": [
      "3.5.3\n"
     ]
    }
   ],
   "source": [
    "# Standard import for Matplotlib\n",
    "import matplotlib as mpl \n",
    "print(mpl.__version__)\n",
    "\n",
    "# But we will more frequently use this import sequence\n",
    "import matplotlib.pyplot as plt"
   ]
  },
  {
   "cell_type": "code",
   "execution_count": 26,
   "id": "47db9749",
   "metadata": {},
   "outputs": [
    {
     "name": "stdout",
     "output_type": "stream",
     "text": [
      "0.11.2\n"
     ]
    }
   ],
   "source": [
    "# Standard import for Seaborn\n",
    "import seaborn as sns\n",
    "print(sns.__version__)"
   ]
  },
  {
   "cell_type": "markdown",
   "id": "4f2f12f6",
   "metadata": {},
   "source": [
    "### Scikit-learn\n"
   ]
  },
  {
   "cell_type": "code",
   "execution_count": 27,
   "id": "41695c80",
   "metadata": {},
   "outputs": [
    {
     "name": "stdout",
     "output_type": "stream",
     "text": [
      "1.1.2\n"
     ]
    }
   ],
   "source": [
    "# Standard import for Scikit-learn\n",
    "import sklearn as sk \n",
    "print(sk. __version__) "
   ]
  },
  {
   "cell_type": "markdown",
   "id": "4dfe2feb",
   "metadata": {},
   "source": [
    "## Working with Pandas DataFrame, First Example.\n",
    "\n",
    "+ For our first example we will use a data set called `titanic`, which is contained in the Seaborn library that you should have already installed. The data set contains information about the passengers of the Titanic, such as their age, gender, class in which they were traveling, whether they survived the ship shinking, etc.  \n",
    "\n",
    "+ We will soon see how to use Python to read data from different sources: csv and Excel files, urls, databases, APIs, etc. But for now we just want to run some tests and get an overview of the data structures we will be working with.  "
   ]
  },
  {
   "cell_type": "code",
   "execution_count": 28,
   "id": "aac7024a",
   "metadata": {},
   "outputs": [
    {
     "name": "stdout",
     "output_type": "stream",
     "text": [
      "<class 'pandas.core.frame.DataFrame'>\n"
     ]
    }
   ],
   "source": [
    "titanic = sns.load_dataset('titanic')\n",
    "print(type(titanic))"
   ]
  },
  {
   "cell_type": "markdown",
   "id": "9faf9c16",
   "metadata": {},
   "source": [
    "As you can see, `titanic` is now a Pandas DataFrame. This is the object that we will most frequently meet when working with data tables (alongside with NumPy arrays). To see the first lines of the `titanic` data set we can use the `head` method. The optional `n` argument determines the number of rows in the output (the default is `n = 5`). "
   ]
  },
  {
   "cell_type": "code",
   "execution_count": 29,
   "id": "4a4bdf16",
   "metadata": {},
   "outputs": [
    {
     "name": "stdout",
     "output_type": "stream",
     "text": [
      "   survived  pclass     sex   age  sibsp  parch     fare embarked  class  \\\n",
      "0         0       3    male  22.0      1      0   7.2500        S  Third   \n",
      "1         1       1  female  38.0      1      0  71.2833        C  First   \n",
      "2         1       3  female  26.0      0      0   7.9250        S  Third   \n",
      "3         1       1  female  35.0      1      0  53.1000        S  First   \n",
      "\n",
      "     who  adult_male deck  embark_town alive  alone  \n",
      "0    man        True  NaN  Southampton    no  False  \n",
      "1  woman       False    C    Cherbourg   yes  False  \n",
      "2  woman       False  NaN  Southampton   yes   True  \n",
      "3  woman       False    C  Southampton   yes  False  \n"
     ]
    }
   ],
   "source": [
    "print(titanic.head(n = 4))"
   ]
  },
  {
   "cell_type": "markdown",
   "id": "491f5b42",
   "metadata": {},
   "source": [
    "**Exercise:** try running the above with other values of `n`. Also run it as `print(titanic.head(4))`. Use the *Help* menu to open the *Reference* link and look up the information about the `head` method for Pandas DataFrames. \n",
    "\n",
    "**Note:** you may have noticed sone `NaN` values in the `deck` column of the table. This are *missing data*. We will see how to deal with missing data later in the course. "
   ]
  },
  {
   "cell_type": "markdown",
   "id": "2e523580",
   "metadata": {},
   "source": [
    "### Basic properties of a DataFrame\n",
    "\n",
    "How many rows and columns of data are there in this data set? We get the answer with `shape`:"
   ]
  },
  {
   "cell_type": "code",
   "execution_count": 30,
   "id": "3a4945a0",
   "metadata": {},
   "outputs": [
    {
     "name": "stdout",
     "output_type": "stream",
     "text": [
      "(891, 15)\n"
     ]
    }
   ],
   "source": [
    "print(titanic.shape)"
   ]
  },
  {
   "cell_type": "markdown",
   "id": "6f155f59",
   "metadata": {},
   "source": [
    "If you just use\n",
    "\n",
    "```\n",
    "print(titanic)\n",
    "```\n",
    "\n",
    "you will get a summary of the table and the shape information will appear below. \n",
    "\n",
    "To see the *column names* we use, quite naturally:"
   ]
  },
  {
   "cell_type": "code",
   "execution_count": 31,
   "id": "67c438b3",
   "metadata": {},
   "outputs": [
    {
     "name": "stdout",
     "output_type": "stream",
     "text": [
      "Index(['survived', 'pclass', 'sex', 'age', 'sibsp', 'parch', 'fare',\n",
      "       'embarked', 'class', 'who', 'adult_male', 'deck', 'embark_town',\n",
      "       'alive', 'alone'],\n",
      "      dtype='object')\n"
     ]
    }
   ],
   "source": [
    "print(titanic.columns)"
   ]
  },
  {
   "cell_type": "markdown",
   "id": "b02dedd0",
   "metadata": {},
   "source": [
    "As we see, the column names are stored in an `Index` object. We will learn more about indices later in the course. \n",
    "\n",
    "Sometimes the row names can contain information as well. They are also stored in an index which can be accessed with:"
   ]
  },
  {
   "cell_type": "code",
   "execution_count": 32,
   "id": "21b1c92d",
   "metadata": {},
   "outputs": [
    {
     "name": "stdout",
     "output_type": "stream",
     "text": [
      "RangeIndex(start=0, stop=891, step=1)\n"
     ]
    }
   ],
   "source": [
    "print(titanic.index)"
   ]
  },
  {
   "cell_type": "markdown",
   "id": "a363bcb6",
   "metadata": {},
   "source": [
    "### Accessing the data\n",
    "\n",
    "+ We can get any element in the data table using brackets, the `iloc` method and row/column pairs. For example:"
   ]
  },
  {
   "cell_type": "code",
   "execution_count": 33,
   "id": "d3d3f7b9",
   "metadata": {},
   "outputs": [
    {
     "data": {
      "text/plain": [
       "38.0"
      ]
     },
     "execution_count": 33,
     "metadata": {},
     "output_type": "execute_result"
    }
   ],
   "source": [
    "titanic.iloc[1, 3]"
   ]
  },
  {
   "cell_type": "markdown",
   "id": "f6bd0f5c",
   "metadata": {},
   "source": [
    "shows that the element of the second row and fourth column in the table is `38.0`. \n",
    "\n",
    "**Always keep in mind that Python counts are zero-based!!** Thus index zero corresponds to the first element in an ordered set.\n",
    "\n",
    "In a data table the columns usually correspond to variables and the rows correspond to observations. And we should have a very good reason to do otherwise!! In the above example, the fourth column corresponds to the `age` variable of the Titanic passengers. It is often better to refer to variables by their names. We can do it with the `loc` method:"
   ]
  },
  {
   "cell_type": "code",
   "execution_count": 34,
   "id": "04e3a8c0",
   "metadata": {},
   "outputs": [
    {
     "data": {
      "text/plain": [
       "38.0"
      ]
     },
     "execution_count": 34,
     "metadata": {},
     "output_type": "execute_result"
    }
   ],
   "source": [
    "titanic.loc[1, 'age']"
   ]
  },
  {
   "cell_type": "markdown",
   "id": "2630f767",
   "metadata": {},
   "source": [
    "In this cases the row indices are numeric (in fact, consecutive zero-based integers), so we can use 1 with `loc` or `iloc` to select a row. \n",
    "\n",
    "We could also first extract the `age` column:"
   ]
  },
  {
   "cell_type": "code",
   "execution_count": 35,
   "id": "4a72db84",
   "metadata": {},
   "outputs": [
    {
     "name": "stdout",
     "output_type": "stream",
     "text": [
      "0      22.0\n",
      "1      38.0\n",
      "2      26.0\n",
      "3      35.0\n",
      "4      35.0\n",
      "       ... \n",
      "886    27.0\n",
      "887    19.0\n",
      "888     NaN\n",
      "889    26.0\n",
      "890    32.0\n",
      "Name: age, Length: 891, dtype: float64\n"
     ]
    }
   ],
   "source": [
    "ttnc_age = titanic['age']\n",
    "print(ttnc_age)"
   ]
  },
  {
   "cell_type": "markdown",
   "id": "b26b9854",
   "metadata": {},
   "source": [
    "What kind of object is this column?"
   ]
  },
  {
   "cell_type": "code",
   "execution_count": 36,
   "id": "f41bf3d6",
   "metadata": {},
   "outputs": [
    {
     "name": "stdout",
     "output_type": "stream",
     "text": [
      "<class 'pandas.core.series.Series'>\n"
     ]
    }
   ],
   "source": [
    "print(type(ttnc_age))"
   ]
  },
  {
   "cell_type": "markdown",
   "id": "ddb053ba",
   "metadata": {},
   "source": [
    "As we see, it is a *Pandas Series* object. A DataFrame can be considered as a collection of Series (columns) with a common (row) index.  \n",
    "\n",
    "**Note:** the `age` column can also be accessed as an attribute of the table, with `titanic.age`. Usually we prefer the bracket method, but this *attribute notation* can be handy when we want to shorten our code sentences. "
   ]
  },
  {
   "cell_type": "markdown",
   "id": "5ba3cd06",
   "metadata": {},
   "source": [
    "### Modifying data\n",
    "\n",
    "+ The `loc` and `iloc` methods can also be used to modify elements of the table. Let us modify the age of that passenger and check the result with head:"
   ]
  },
  {
   "cell_type": "code",
   "execution_count": 37,
   "id": "29dd1b6c",
   "metadata": {},
   "outputs": [
    {
     "name": "stdout",
     "output_type": "stream",
     "text": [
      "   survived  pclass     sex   age  sibsp  parch     fare embarked  class  \\\n",
      "0         0       3    male  22.0      1      0   7.2500        S  Third   \n",
      "1         1       1  female  19.0      1      0  71.2833        C  First   \n",
      "2         1       3  female  26.0      0      0   7.9250        S  Third   \n",
      "3         1       1  female  35.0      1      0  53.1000        S  First   \n",
      "4         0       3    male  35.0      0      0   8.0500        S  Third   \n",
      "\n",
      "     who  adult_male deck  embark_town alive  alone  \n",
      "0    man        True  NaN  Southampton    no  False  \n",
      "1  woman       False    C    Cherbourg   yes  False  \n",
      "2  woman       False  NaN  Southampton   yes   True  \n",
      "3  woman       False    C  Southampton   yes  False  \n",
      "4    man        True  NaN  Southampton    no   True  \n"
     ]
    }
   ],
   "source": [
    "titanic.iloc[1, 3] = 19.0\n",
    "\n",
    "print(titanic.head())"
   ]
  },
  {
   "cell_type": "markdown",
   "id": "1064e016",
   "metadata": {},
   "source": [
    "**Exercise:** now use `iloc` to return the age of the passenger to the original `38.0` value and check your work with `head`. "
   ]
  },
  {
   "cell_type": "markdown",
   "id": "863df897",
   "metadata": {},
   "source": [
    "### Accessing larger portions of the DataFrame (indexing and slicing)\n",
    "\n",
    "\n",
    "+ If we want to access several rows and or columns we can use explicit *indexing* (note that the order is relevant) "
   ]
  },
  {
   "cell_type": "code",
   "execution_count": 46,
   "id": "47dbed2d",
   "metadata": {},
   "outputs": [
    {
     "data": {
      "text/html": [
       "<div>\n",
       "<style scoped>\n",
       "    .dataframe tbody tr th:only-of-type {\n",
       "        vertical-align: middle;\n",
       "    }\n",
       "\n",
       "    .dataframe tbody tr th {\n",
       "        vertical-align: top;\n",
       "    }\n",
       "\n",
       "    .dataframe thead th {\n",
       "        text-align: right;\n",
       "    }\n",
       "</style>\n",
       "<table border=\"1\" class=\"dataframe\">\n",
       "  <thead>\n",
       "    <tr style=\"text-align: right;\">\n",
       "      <th></th>\n",
       "      <th>sex</th>\n",
       "      <th>age</th>\n",
       "      <th>survived</th>\n",
       "      <th>pclass</th>\n",
       "    </tr>\n",
       "  </thead>\n",
       "  <tbody>\n",
       "    <tr>\n",
       "      <th>0</th>\n",
       "      <td>male</td>\n",
       "      <td>22.0</td>\n",
       "      <td>0</td>\n",
       "      <td>3</td>\n",
       "    </tr>\n",
       "    <tr>\n",
       "      <th>1</th>\n",
       "      <td>female</td>\n",
       "      <td>19.0</td>\n",
       "      <td>1</td>\n",
       "      <td>1</td>\n",
       "    </tr>\n",
       "    <tr>\n",
       "      <th>2</th>\n",
       "      <td>female</td>\n",
       "      <td>26.0</td>\n",
       "      <td>1</td>\n",
       "      <td>3</td>\n",
       "    </tr>\n",
       "    <tr>\n",
       "      <th>3</th>\n",
       "      <td>female</td>\n",
       "      <td>35.0</td>\n",
       "      <td>1</td>\n",
       "      <td>1</td>\n",
       "    </tr>\n",
       "    <tr>\n",
       "      <th>4</th>\n",
       "      <td>male</td>\n",
       "      <td>35.0</td>\n",
       "      <td>0</td>\n",
       "      <td>3</td>\n",
       "    </tr>\n",
       "  </tbody>\n",
       "</table>\n",
       "</div>"
      ],
      "text/plain": [
       "      sex   age  survived  pclass\n",
       "0    male  22.0         0       3\n",
       "1  female  19.0         1       1\n",
       "2  female  26.0         1       3\n",
       "3  female  35.0         1       1\n",
       "4    male  35.0         0       3"
      ]
     },
     "execution_count": 46,
     "metadata": {},
     "output_type": "execute_result"
    }
   ],
   "source": [
    "titanic.loc[[0, 1, 2, 3, 4] , ['sex', 'age', 'survived', 'pclass']]"
   ]
  },
  {
   "cell_type": "markdown",
   "id": "c1ba2316",
   "metadata": {},
   "source": [
    "or we can use *slicing* with the colon`:` to get consecutive rows or columns:"
   ]
  },
  {
   "cell_type": "code",
   "execution_count": 48,
   "id": "efeafe2f",
   "metadata": {},
   "outputs": [
    {
     "data": {
      "text/html": [
       "<div>\n",
       "<style scoped>\n",
       "    .dataframe tbody tr th:only-of-type {\n",
       "        vertical-align: middle;\n",
       "    }\n",
       "\n",
       "    .dataframe tbody tr th {\n",
       "        vertical-align: top;\n",
       "    }\n",
       "\n",
       "    .dataframe thead th {\n",
       "        text-align: right;\n",
       "    }\n",
       "</style>\n",
       "<table border=\"1\" class=\"dataframe\">\n",
       "  <thead>\n",
       "    <tr style=\"text-align: right;\">\n",
       "      <th></th>\n",
       "      <th>survived</th>\n",
       "      <th>pclass</th>\n",
       "      <th>sex</th>\n",
       "      <th>age</th>\n",
       "    </tr>\n",
       "  </thead>\n",
       "  <tbody>\n",
       "    <tr>\n",
       "      <th>0</th>\n",
       "      <td>0</td>\n",
       "      <td>3</td>\n",
       "      <td>male</td>\n",
       "      <td>22.0</td>\n",
       "    </tr>\n",
       "    <tr>\n",
       "      <th>1</th>\n",
       "      <td>1</td>\n",
       "      <td>1</td>\n",
       "      <td>female</td>\n",
       "      <td>19.0</td>\n",
       "    </tr>\n",
       "    <tr>\n",
       "      <th>2</th>\n",
       "      <td>1</td>\n",
       "      <td>3</td>\n",
       "      <td>female</td>\n",
       "      <td>26.0</td>\n",
       "    </tr>\n",
       "    <tr>\n",
       "      <th>3</th>\n",
       "      <td>1</td>\n",
       "      <td>1</td>\n",
       "      <td>female</td>\n",
       "      <td>35.0</td>\n",
       "    </tr>\n",
       "    <tr>\n",
       "      <th>4</th>\n",
       "      <td>0</td>\n",
       "      <td>3</td>\n",
       "      <td>male</td>\n",
       "      <td>35.0</td>\n",
       "    </tr>\n",
       "  </tbody>\n",
       "</table>\n",
       "</div>"
      ],
      "text/plain": [
       "   survived  pclass     sex   age\n",
       "0         0       3    male  22.0\n",
       "1         1       1  female  19.0\n",
       "2         1       3  female  26.0\n",
       "3         1       1  female  35.0\n",
       "4         0       3    male  35.0"
      ]
     },
     "execution_count": 48,
     "metadata": {},
     "output_type": "execute_result"
    }
   ],
   "source": [
    "titanic.loc[:4 , 'survived':'age']"
   ]
  },
  {
   "cell_type": "markdown",
   "id": "5127d122",
   "metadata": {},
   "source": [
    "**Warning:** contrary to the usual Python (and NumPy) convention, the final values 4 and age of the indices are included in the output for `loc`."
   ]
  },
  {
   "cell_type": "markdown",
   "id": "01f94b67",
   "metadata": {},
   "source": [
    "+ In the above we have used `loc` but you can also use numeric positions with `iloc`. **Note**, however, that the final values of the numeric indexes are excluded for `iloc` output:"
   ]
  },
  {
   "cell_type": "code",
   "execution_count": 51,
   "id": "2ff6538f",
   "metadata": {},
   "outputs": [
    {
     "data": {
      "text/html": [
       "<div>\n",
       "<style scoped>\n",
       "    .dataframe tbody tr th:only-of-type {\n",
       "        vertical-align: middle;\n",
       "    }\n",
       "\n",
       "    .dataframe tbody tr th {\n",
       "        vertical-align: top;\n",
       "    }\n",
       "\n",
       "    .dataframe thead th {\n",
       "        text-align: right;\n",
       "    }\n",
       "</style>\n",
       "<table border=\"1\" class=\"dataframe\">\n",
       "  <thead>\n",
       "    <tr style=\"text-align: right;\">\n",
       "      <th></th>\n",
       "      <th>survived</th>\n",
       "      <th>pclass</th>\n",
       "      <th>sex</th>\n",
       "    </tr>\n",
       "  </thead>\n",
       "  <tbody>\n",
       "    <tr>\n",
       "      <th>0</th>\n",
       "      <td>0</td>\n",
       "      <td>3</td>\n",
       "      <td>male</td>\n",
       "    </tr>\n",
       "    <tr>\n",
       "      <th>1</th>\n",
       "      <td>1</td>\n",
       "      <td>1</td>\n",
       "      <td>female</td>\n",
       "    </tr>\n",
       "    <tr>\n",
       "      <th>2</th>\n",
       "      <td>1</td>\n",
       "      <td>3</td>\n",
       "      <td>female</td>\n",
       "    </tr>\n",
       "    <tr>\n",
       "      <th>3</th>\n",
       "      <td>1</td>\n",
       "      <td>1</td>\n",
       "      <td>female</td>\n",
       "    </tr>\n",
       "  </tbody>\n",
       "</table>\n",
       "</div>"
      ],
      "text/plain": [
       "   survived  pclass     sex\n",
       "0         0       3    male\n",
       "1         1       1  female\n",
       "2         1       3  female\n",
       "3         1       1  female"
      ]
     },
     "execution_count": 51,
     "metadata": {},
     "output_type": "execute_result"
    }
   ],
   "source": [
    "titanic.iloc[:4, :3]"
   ]
  },
  {
   "cell_type": "markdown",
   "id": "363fdf5a",
   "metadata": {},
   "source": [
    "### Condition based filtering\n",
    "\n",
    "+ One of the most powerful tools in data analysis is the ability to filter only those rows of a data table that meet some condition, usually expressed as a *boolean* condition. For example, we will filter the `titanic` DataFrame, keeping only the rows corresponding to female passengers with ages equal or greater than 25 years (observe the use of the attribute notation we mentioned before).   "
   ]
  },
  {
   "cell_type": "code",
   "execution_count": 61,
   "id": "cde1c08f",
   "metadata": {},
   "outputs": [
    {
     "name": "stdout",
     "output_type": "stream",
     "text": [
      "    survived  pclass     sex   age  sibsp  parch     fare embarked   class  \\\n",
      "2          1       3  female  26.0      0      0   7.9250        S   Third   \n",
      "3          1       1  female  35.0      1      0  53.1000        S   First   \n",
      "8          1       3  female  27.0      0      2  11.1333        S   Third   \n",
      "11         1       1  female  58.0      0      0  26.5500        S   First   \n",
      "15         1       2  female  55.0      0      0  16.0000        S  Second   \n",
      "\n",
      "      who  adult_male deck  embark_town alive  alone  \n",
      "2   woman       False  NaN  Southampton   yes   True  \n",
      "3   woman       False    C  Southampton   yes  False  \n",
      "8   woman       False  NaN  Southampton   yes  False  \n",
      "11  woman       False    C  Southampton   yes   True  \n",
      "15  woman       False  NaN  Southampton   yes   True  \n"
     ]
    }
   ],
   "source": [
    "ttnc_female_25plus = titanic.loc[(titanic.age >= 25) &  (titanic.sex == 'female')]\n",
    "\n",
    "print(ttnc_female_25plus.head())"
   ]
  },
  {
   "cell_type": "markdown",
   "id": "9a5bae87",
   "metadata": {},
   "source": [
    "## Some final fun for the session"
   ]
  },
  {
   "cell_type": "code",
   "execution_count": 64,
   "id": "d2172d5f",
   "metadata": {},
   "outputs": [
    {
     "name": "stdout",
     "output_type": "stream",
     "text": [
      "        country  year  population      cont  life_exp       gdp_cap\n",
      "11  Afghanistan  2007  31889923.0      Asia    43.828    974.580338\n",
      "23      Albania  2007   3600523.0    Europe    76.423   5937.029526\n",
      "35      Algeria  2007  33333216.0    Africa    72.301   6223.367465\n",
      "47       Angola  2007  12420476.0    Africa    42.731   4797.231267\n",
      "59    Argentina  2007  40301927.0  Americas    75.320  12779.379640\n"
     ]
    }
   ],
   "source": [
    "gapminder = pd.read_csv('data/gapminder.csv', index_col = 0)\n",
    "print(gapminder.head())\n",
    "gdp_cap = gapminder.iloc[:, -1].tolist()\n",
    "life_exp = gapminder.iloc[:, -2].tolist()\n",
    "pop = gapminder.iloc[:, 2].tolist()\n",
    "cont = gapminder.iloc[:, 3].tolist()\n",
    "continentColors = {\n",
    "    'Asia':'red',\n",
    "    'Europe':'green',\n",
    "    'Africa':'blue',\n",
    "    'Americas':'yellow',\n",
    "    'Oceania':'black'\n",
    "}"
   ]
  },
  {
   "cell_type": "code",
   "execution_count": 68,
   "id": "c3adefbc",
   "metadata": {},
   "outputs": [],
   "source": [
    "plt.rcParams_old = plt.rcParams"
   ]
  },
  {
   "cell_type": "code",
   "execution_count": 75,
   "id": "09c43dfa",
   "metadata": {},
   "outputs": [
    {
     "data": {
      "image/png": "[encoded data removed]",
      "text/plain": [
       "<Figure size 1200x800 with 1 Axes>"
      ]
     },
     "metadata": {},
     "output_type": "display_data"
    },
    {
     "data": {
      "text/plain": [
       "<Figure size 1200x800 with 0 Axes>"
      ]
     },
     "metadata": {},
     "output_type": "display_data"
    }
   ],
   "source": [
    "%matplotlib inline\n",
    "\n",
    "sns.set()\n",
    "\n",
    "plt.rcParams['figure.figsize'] = [12, 8]\n",
    "plt.rcParams['figure.dpi'] = 100\n",
    "\n",
    "col = [continentColors[item] for item in cont]\n",
    "\n",
    "# Specify c and alpha inside plt.scatter()\n",
    "plt.scatter(x = gdp_cap, y = life_exp, s = np.array(pop) /1000000,\n",
    "c = col, alpha = 0.4)\n",
    "\n",
    "# Customizations\n",
    "plt.xscale('log')\n",
    "plt.xlabel('GDP per Capita [in USD]')\n",
    "plt.ylabel('Life Expectancy [in years]')\n",
    "plt.title('World Development in 2007')\n",
    "plt.xticks([1000,10000,100000], ['1k','10k','100k'])\n",
    "plt.grid(True)\n",
    "\n",
    "# Show the plot\n",
    "plt.show()\n",
    "plt.clf()"
   ]
  },
  {
   "cell_type": "code",
   "execution_count": null,
   "id": "25f39dc5",
   "metadata": {},
   "outputs": [],
   "source": []
  },
  {
   "cell_type": "code",
   "execution_count": null,
   "id": "fde1262e",
   "metadata": {},
   "outputs": [],
   "source": []
  },
  {
   "cell_type": "code",
   "execution_count": null,
   "id": "db963509",
   "metadata": {},
   "outputs": [],
   "source": []
  }
 ],
 "metadata": {
  "kernelspec": {
   "display_name": "Python 3 (ipykernel)",
   "language": "python",
   "name": "python3"
  },
  "language_info": {
   "codemirror_mode": {
    "name": "ipython",
    "version": 3
   },
   "file_extension": ".py",
   "mimetype": "text/x-python",
   "name": "python",
   "nbconvert_exporter": "python",
   "pygments_lexer": "ipython3",
   "version": "3.10.5"
  }
 },
 "nbformat": 4,
 "nbformat_minor": 5
}
