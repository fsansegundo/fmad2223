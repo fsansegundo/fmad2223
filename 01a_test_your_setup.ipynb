{
 "cells": [
  {
   "cell_type": "markdown",
   "id": "6eb2245e",
   "metadata": {},
   "source": [
    "# Python Setup Checks\n",
    "\n",
    "To test that your python setup is looking good please select the `Cell` menu above and click on `Run All`"
   ]
  },
  {
   "cell_type": "markdown",
   "id": "3678d957",
   "metadata": {},
   "source": [
    "## Check your Conda environment and Python version\n",
    "\n",
    "Look for the active environment in the output of the following command. It should be `fmad`. Also check the Python version you are using."
   ]
  },
  {
   "cell_type": "code",
   "execution_count": 4,
   "id": "dad8a685",
   "metadata": {},
   "outputs": [
    {
     "name": "stdout",
     "output_type": "stream",
     "text": [
      "\r\n",
      "     active environment : scp\r\n",
      "    active env location : /Users/fernando/miniforge3/envs/scp\r\n",
      "            shell level : 2\r\n",
      "       user config file : /Users/fernando/.condarc\r\n",
      " populated config files : /Users/fernando/miniforge3/.condarc\r\n",
      "                          /Users/fernando/.condarc\r\n",
      "          conda version : 4.13.0\r\n",
      "    conda-build version : not installed\r\n",
      "         python version : 3.9.5.final.0\r\n",
      "       virtual packages : __osx=12.4=0\r\n",
      "                          __unix=0=0\r\n",
      "                          __archspec=1=arm64\r\n",
      "       base environment : /Users/fernando/miniforge3  (writable)\r\n",
      "      conda av data dir : /Users/fernando/miniforge3/etc/conda\r\n",
      "  conda av metadata url : None\r\n",
      "           channel URLs : https://conda.anaconda.org/conda-forge/osx-arm64\r\n",
      "                          https://conda.anaconda.org/conda-forge/noarch\r\n",
      "          package cache : /Users/fernando/miniforge3/pkgs\r\n",
      "                          /Users/fernando/.conda/pkgs\r\n",
      "       envs directories : /Users/fernando/miniforge3/envs\r\n",
      "                          /Users/fernando/.conda/envs\r\n",
      "               platform : osx-arm64\r\n",
      "             user-agent : conda/4.13.0 requests/2.28.0 CPython/3.9.5 Darwin/21.5.0 OSX/12.4\r\n",
      "                UID:GID : 501:20\r\n",
      "             netrc file : None\r\n",
      "           offline mode : False\r\n",
      "\r\n"
     ]
    }
   ],
   "source": [
    "!conda info"
   ]
  },
  {
   "cell_type": "markdown",
   "id": "ba5cfe67",
   "metadata": {},
   "source": [
    "## NumPy \n",
    "\n",
    "Check the numpy version and make sure that no errors appear in the output of the code cells below."
   ]
  },
  {
   "cell_type": "code",
   "execution_count": 1,
   "id": "f9bba367",
   "metadata": {},
   "outputs": [
    {
     "name": "stdout",
     "output_type": "stream",
     "text": [
      "1.23.0\n"
     ]
    }
   ],
   "source": [
    "import numpy as np\n",
    "print(np.__version__)"
   ]
  },
  {
   "cell_type": "code",
   "execution_count": 2,
   "id": "00922089",
   "metadata": {},
   "outputs": [
    {
     "name": "stdout",
     "output_type": "stream",
     "text": [
      "649 ns ± 3.52 ns per loop (mean ± std. dev. of 7 runs, 1,000,000 loops each)\n"
     ]
    }
   ],
   "source": [
    "a = np.random.rand(1000)\n",
    "%timeit a @ a"
   ]
  },
  {
   "cell_type": "markdown",
   "id": "64b5aaf9",
   "metadata": {},
   "source": [
    "## Pandas\n",
    "\n",
    "Similarly for Pandas."
   ]
  },
  {
   "cell_type": "code",
   "execution_count": 5,
   "id": "e9456079",
   "metadata": {},
   "outputs": [
    {
     "name": "stdout",
     "output_type": "stream",
     "text": [
      "1.4.3\n"
     ]
    }
   ],
   "source": [
    "import pandas as pd\n",
    "print(pd.__version__)"
   ]
  },
  {
   "cell_type": "code",
   "execution_count": null,
   "id": "7717ffed",
   "metadata": {},
   "outputs": [],
   "source": []
  }
 ],
 "metadata": {
  "kernelspec": {
   "display_name": "Python 3 (ipykernel)",
   "language": "python",
   "name": "python3"
  },
  "language_info": {
   "codemirror_mode": {
    "name": "ipython",
    "version": 3
   },
   "file_extension": ".py",
   "mimetype": "text/x-python",
   "name": "python",
   "nbconvert_exporter": "python",
   "pygments_lexer": "ipython3",
   "version": "3.10.5"
  }
 },
 "nbformat": 4,
 "nbformat_minor": 5
}
