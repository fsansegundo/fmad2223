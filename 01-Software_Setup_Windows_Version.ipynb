{
 "cells": [
  {
   "cell_type": "markdown",
   "id": "d362c974",
   "metadata": {},
   "source": [
    "<img src='./fig/vertical_COMILLAS_COLOR.jpg' style= 'width:70mm'>\n",
    "<h2 style='font-family: Optima;color:#ecac00'>\n",
    "Máster en Big Data. Tecnología y Analítica Avanzada (MBD).\n",
    "</h2>\n",
    "</br>\n",
    "<h2 style='font-family: Optima;color:#ecac00'>\n",
    "Fundamentos Matemáticos del Análisis de Datos (FMAD). 2022-2023.\n",
    "</h2>\n",
    "\n",
    "<h1 style='font-family: Optima;color:#ecac00'>\n",
    "Software Setup, Windows Version\n",
    "</h1>\n"
   ]
  },
  {
   "cell_type": "markdown",
   "id": "d4cd8123",
   "metadata": {},
   "source": [
    "## Before you proceed\n",
    "\n",
    "+ Please, read this document completely before starting your setup, so as to get a general idea of what is coming. In particular, please read the final [*Alternative Setups*](#AlternativeSetups) section. If you have any doubts, we are happy to help.\n",
    "+ **Be careful!** Another reason to read this document in advance is that we have seen too often users ruining their Python setups because of a rushed decision. Wrecking your system can be a matter of minutes, getting it back can take you hours or even days. \n",
    "Don't let the cartoon below be you!! When in doubt, please talk to us first.\n",
    "\n",
    "![](fig/XKCD_python_environment.png)  \n",
    "\n",
    "*Image from [XKCD](https://xkcd.com/1987/)* \n",
    "\n",
    "\n"
   ]
  },
  {
   "cell_type": "markdown",
   "id": "c083be26",
   "metadata": {},
   "source": [
    "## Folder structure for the course\n",
    "\n",
    "+ You should create a **specific folder** for this course under your user folder. Under Windows a typical location\n",
    "could be something like (the ellipsis represents possible intermediate folders):\n",
    "\n",
    "    `C:/Users/your_user_folder/.../MasterBD/FMAD/`  \n",
    "        \n",
    "          \n",
    "+ **The folder that you have created will always be referred to in these notes as the Course Folder**. In the above examples we named it `FMAD` but you can give it any name you want. As usual, it is a good idea to keep it short and meaningful (and free of spaces, unusual characters, etc.) \n",
    " \n",
    "+ We will be using Git and [GitHub](https://github.com) repositories for the Course Notes and Assignments. In particular, the following repository will be used to share all the common course material:  \n",
    "    [https://github.com/mbdfmad/fmad2223](https://github.com/mbdfmad/fmad2223)  \n",
    "  In the next section we will tell you how to get a local copy of this repository to your computer. For the time being you can browse the contents of the repository, but do not download it yet! This repository **will always be referred to in these notes as the Common Repository**. Soon you will be also using your *personal repository* and it is important to get the distinction and name conventions right from the beginning. "
   ]
  },
  {
   "cell_type": "markdown",
   "id": "870f5e49",
   "metadata": {},
   "source": [
    "## Software Setup and First Steps"
   ]
  },
  {
   "cell_type": "markdown",
   "id": "e1786f39-0d26-4437-a3e1-d4caf043a731",
   "metadata": {},
   "source": [
    "### Installing Git\n",
    "\n",
    "**Important Note:** If you already have a working and recent setup of Git (current version is 2.37), skip to the [*Installing Anaconda Python*](#InstallingAnaconda) subsection.\n",
    "\n",
    "+ Install [Git for Windows](http://gitforwindows.org) using this link. When asked about \"Adjusting your PATH environment\", select *Git from the command line and also from 3rd-party software*. "
   ]
  },
  {
   "cell_type": "markdown",
   "id": "950a18f0-5775-4e9f-b26b-5d5d283a1fb8",
   "metadata": {},
   "source": [
    "  <img src=\"fig/007-InstallingGitForWindows01.png\" width=30%/>\n",
    "  \n",
    "  For all the rest of the setup it is ok to accept the defaults.\n",
    "  \n",
    "+ When the Git setup is completed hit the Windows key and begin typing *Git Bash*. You should see results like this:  \n",
    "\n",
    "  <img src=\"fig/007-InstallingGitForWindows02.png\" width=30%/>\n",
    "  \n",
    "  Open the *Git Bash* application. A new *terminal* window will appear with a prompt waiting for your commands. \n",
    "  \n",
    "  <img src=\"fig/007-InstallingGitForWindows03.png\" width=40%/>\n",
    "  \n",
    "\n",
    "The details of the prompt (user and machine names) will be different in your case, of course. We will return here soon, but first we need a GitHub account."
   ]
  },
  {
   "cell_type": "markdown",
   "id": "40444030",
   "metadata": {},
   "source": [
    "### Create a GitHub account  \n",
    "\n",
    "+ **Important Note:** even if you already have a GitHub account you need to have an account that is linked with your university email (the one ending in `@alu.comillas.edu`). You can create that account using [this link](https://github.com). Make sure to log out first if you were already logged with a *non-university-associated* account. And we recommend [reading this advice first](https://happygitwithr.com/github-acct.html#username-advice)."
   ]
  },
  {
   "cell_type": "markdown",
   "id": "49a3955e",
   "metadata": {},
   "source": [
    "### Clone the *common repository* \n",
    "\n",
    "+ Using the *Git Bash terminal* navigate to the *Course Folder*. You can get there using the `cd` command. **Make sure that you have changed into the right folder before going further!!** You can use the `pwd` command to check your current location. Ask for help if you run into trouble.\n",
    "\n",
    "+ In that folder run the following command:\n",
    "\n",
    "    `git clone https://github.com/mbdfmad/fmad2223.git`\n",
    "    \n",
    "  Git will begin cloning (downloading) the contents of the repo to a folder named `fmad2223` in your computer. The process looks like this (the number of cloned objects will surely be greater in your case):\n",
    "  \n",
    "    <img src=\"fig/008-CloningCourseRepo.png\" width=40%/>\n",
    "  \n",
    "  The `fmad2223` folder will then be a subfolder of the *Course Folder*. You should consider this `fmad2223` folder as a *read-only* folder. You will soon see how to update its contents as the course progresses, but **you are not expected to directly modify the contents of the `fmad2223` folder** (and you shouldn't). You can *copy* any object from this folder (e.g. the code examples that we will provide) to other locations in your computer if you want to make changes. Finally, if you are a seasoned Git user you can opt for a fork of the repo instead of cloning it. "
   ]
  },
  {
   "cell_type": "markdown",
   "id": "f7f01478",
   "metadata": {},
   "source": [
    "### Keeping your local copy of the *common repository* updated.\n",
    "\n",
    "+ If you are used to auto syncing tools such as Dropbox, OneDrive, ICloud Drive and the like, you must keep in mind that **Git repos are not auto-syncing**. To keep the information in your repos updated you have to manually update them (both ways, from your computer to GitHub and viceversa).\n",
    "\n",
    "+ **This will be very important for our workflow in the lectures of the course.** So make sure to get it right, and ask for help soon if you need it. Every work session for this course will begin with the following ritual:\n",
    "    + Open a *Terminal* (the Git Bash terminal or, see below, the Anaconda terminal are both ok).\n",
    "    + Navigate to your local `fmad2223` folder. Do not confuse this with the *Course Folder*.\n",
    "    + Run `git status` to check that everything is ok. \n",
    "    + Run `git pull origin main`. Depending on the update status of your local copy of the repo you will either download the new contents from the repo at GitHub or you will receive a message saying that you are `Already up to  date`.  \n",
    "    + If you are going to modify any of the files in `fmad2223` and you want to keep the changes, **make sure to copy the files first to a different folder outside of the common repository.** Just create as many additional subfolders of the course folder as you see fit, but make so outside of the common repository. \n",
    "    \n",
    "  Don't worry too much, however. You cannot break anything, since you won't have write permissions for this GitHub repo. Worst case scenario, you can (backup your local files and) delete the `fmad2223` folder and clone it again to get the latest contents."
   ]
  },
  {
   "cell_type": "markdown",
   "id": "c42b026d",
   "metadata": {},
   "source": [
    "    \n",
    "### Setting up a local Git configuration for the Common Repository\n",
    "\n",
    "+ Using still the *Git Bash* terminal, change into the `fmad2223` folder and set your local Git configuration with these commands (the first one is the folder change from the *Course Folder* to `fmad2223`):\n",
    "\n",
    "  `cd fmad2223`  \n",
    "  `git config --local user.name 'replace_this_with_your_GitHub_username'`  \n",
    "  `git config --local user.email 'replace_this_with_your_university_email'`  \n",
    "  `git config --global init.defaultBranch main`\n",
    "  \n",
    "+ By the way, if you are doing this setup for the first time, you can now close the *Git Bash* terminal window.   "
   ]
  },
  {
   "cell_type": "markdown",
   "id": "985719b3",
   "metadata": {},
   "source": [
    "### Installing Anaconda Python <a name=\"InstallingAnaconda\"></a>\n",
    "\n",
    "**Important Note:** If you already have a working setup of Anaconda Python (with Python 3.8 or 3.9) then skip to the [*Create a Conda Environment for the Course*](#CreateCondaEnv) subsection. If your Python version is older: get updated, people!\n",
    "\n",
    "\n",
    "+ Begin by navigating to the [Anaconda Web Page](https://www.anaconda.com/):\n",
    "\n",
    "    <img src=\"fig/000-WebAnaconda.PNG\" width=50%/>\n",
    "\n",
    "+ Click the download link. When the download finishes, run the Anaconda Installer.\n",
    "\n",
    "    <img src=\"fig/001-AnacondaSetup01.PNG\" width=50%/>\n",
    "    \n",
    "+ In the following setup dialogs you can (and probably should) accept all the defaults. **Be careful with this step!** Unles you have a good reason not to, please leave the first box unmarked, as illustrated here:     \n",
    "\n",
    "    <img src=\"fig/001-AnacondaSetup02.PNG\" width=50%/>\n",
    "    \n",
    "+ When setup is completed you will see something like this:\n",
    "\n",
    "    <img src=\"fig/001-AnacondaSetup03.png\" width=50%/>\n",
    "    \n",
    "    Click on *Next* and do the same in the final dialogs (consisting in software ads and tutorials, we suggest to skip all of them). \n",
    "\n",
    "\n",
    "\n",
    "\n"
   ]
  },
  {
   "cell_type": "markdown",
   "id": "87e8296e",
   "metadata": {},
   "source": [
    "### Create a Conda Environment for the Course <a name=\"CreateCondaEnv\"></a>\n",
    "\n",
    "+ A conda environment allows us to organize our work in projects, keeping each project dependencies isolated from the rest of your work. It is also the best way to avoid running into the potentially catastrophic situation in where you have several Python versions and they conflict to [create a mess](https://xkcd.com/1987/). We urge you to **always use environments** to organize your work in Python. You can learn more about the use of Conda environments [in this link](https://docs.conda.io/projects/conda/en/latest/user-guide/tasks/manage-environments.html#). And to learn more about environments in Python in general, you can check these two links:\n",
    "    + [A Guide to Python’s Virtual Environments](https://towardsdatascience.com/virtual-environments-104c62d48c54)\n",
    "    + [The Definitive Guide to Conda Environments](https://towardsdatascience.com/a-guide-to-conda-environments-bc6180fc533)\n",
    "\n",
    "+ We will be using a Conda environment named `fmad` for this course. To create the environment we will use the *Anaconda Terminal (or Anaconda Prompt)*. Hit the Windows key and begin typing *Anaconda*. You should see results like this: \n",
    "\n",
    "    <img src=\"fig/002-AnacondaWindowsMenu.png\" width=30%/>\n",
    "    \n",
    "    The Anaconda Navigator is a GUI interface to manage your Anaconda setup. Some people like it a lot, but we will be using mostly the (old school) terminal-based command-line approach. Thus, start the *Anaconda Prompt* and a window like this one will open:\n",
    "\n",
    "    <img src=\"fig/003-AnacondaPrompt.png\" width=50%/>\n",
    "    \n",
    "    This terminal window is where most of our *Python management* will occur (but not the actual coding!)\n",
    "    \n",
    "+ In that prompt execute the command \n",
    "\n",
    "    `conda create --name fmad`\n",
    "    \n",
    "    and after some moments something like this should happen  \n",
    "\n",
    "    <img src=\"fig/004-AnacondaEnvironmentCreate01.png\" width=50%/>\n",
    "    \n",
    "    For the time being ignore the warning about updating Conda it it appears (we will deal with it in the next step) and just answer *y* and hit *Enter*. A successful environment creation looks like:\n",
    "\n",
    "    <img src=\"fig/004-AnacondaEnvironmentCreate02.png\" width=30%/>\n",
    "    "
   ]
  },
  {
   "cell_type": "markdown",
   "id": "4ba941a0",
   "metadata": {},
   "source": [
    "### Update conda\n",
    "\n",
    "+ To update conda (if the warning appeared in the previous step) run this command:\n",
    "\n",
    "    `conda update -n base -c defaults conda`\n",
    "    \n",
    "    As the following picture illustrates conda will present you with a summary of the update operation. Answer *y* and hit *Enter*.\n",
    "    \n",
    "     <img src=\"fig/005-UpdatingConda01.png\" width=50%/>\n",
    "     \n",
    "     Then conda will download the required software to autoupdate. The expected result looks like this:\n",
    "     \n",
    "     <img src=\"fig/005-UpdatingConda02.png\" width=50%/>"
   ]
  },
  {
   "cell_type": "markdown",
   "id": "2c8f0813",
   "metadata": {},
   "source": [
    "### Activate the environment   \n",
    "    \n",
    "+ When we created the `fmad` environment in a previous step, Conda showed us the activation command:  \n",
    "\n",
    "    `conda activate fmad`\n",
    "    \n",
    "    Run this command now. This will activate the newly created environment `fmad`. Note that the name of the active environment appears in parenthesis at the beginning of the prompt line:\n",
    "\n",
    "    <img src=\"fig/004-AnacondaEnvironmentCreate03.png\" width=30%/>\n",
    "    \n",
    "    **Make sure that the environment is correctly activated before proceeding!!** If you have any problem ask for help.\n",
    "    "
   ]
  },
  {
   "cell_type": "markdown",
   "id": "a6457636",
   "metadata": {},
   "source": [
    "###  Install the first library\n",
    "\n",
    "+ The first library that we will install is [NumPy](https://numpy.org), which provides the foundation for much of the work we will doing in this course. We will discuss NumPy in coming sessions of the course. But to use it we first need to install it in our `fmad` environment. Execute this command now:\n",
    "    \n",
    "    `conda install --name fmad numpy`\n",
    "    \n",
    "    A summary of the libraries that need to be downloaded for the NumPy setup will appear\n",
    "    \n",
    "    <img src=\"fig/006-InstallingLibraries01.png\" width=50%/>\n",
    "    \n",
    "    followed by a rather lengthy list of the libraries about to be installed (in most cases these two lists are almost equal) \n",
    "\n",
    "     <img src=\"fig/006-InstallingLibraries02.png\" width=50%/>\n",
    "     \n",
    "     Answer yes to make the setup begin and wait patiently while NumPy and all of its requirements are downloaded and installed. The proccess should end like this:\n",
    "     \n",
    "     <img src=\"fig/006-InstallingLibraries03.png\" width=50%/>     "
   ]
  },
  {
   "cell_type": "markdown",
   "id": "f7e1746b",
   "metadata": {},
   "source": [
    "###  Install aditional libraries\n",
    "\n",
    "+ NumPy is just the first of the libraries that we will use in the course, but many others will also come into play. To name a few of the most relevant:\n",
    "\n",
    "    + [NumPy](https://numpy.org)\n",
    "    + [Pandas](https://pandas.pydata.org)\n",
    "    + [MatPlotLib](https://matplotlib.org)\n",
    "    + [Scikit-Learn](https://scikit-learn.org)\n",
    "    + [Seaborn](https://seaborn.pydata.org)\n",
    "\n",
    "  Take a few moments to visit the homepage for each of these libraries. \n",
    "\n",
    "**Exercise:** install all these libraries to the `fmad` environment. To install several libraries you don't need to repeat `conda install` for each library; you can use a single install command and separate the names of the libraries with a space."
   ]
  },
  {
   "cell_type": "markdown",
   "id": "d8ad7881",
   "metadata": {},
   "source": [
    "### Install the Jupyter Notebook & Jupyter Lab\n",
    "\n",
    "+ In this course we will talk to Python using the onterface provided by *Jupyter Notebooks*. The [Jupyter Project](https://jupyter.org) provides a general purpose development environment which is well suited for Python (but not limited to it). It will play a central role in our work with Python, but it installs (to the `fmad` environment) just like any other library.\n",
    "\n",
    "    `conda install --name fmad jupyter`\n",
    "    \n",
    "+ When the setup ends execute the following two commands in order. The first one changes your current directory to your user folder in Windows. The second command opens the Jupyter Notebook in your *default Web Browser*:  \n",
    "\n",
    "   `cd %HOMEPATH%`  \n",
    "   `jupyter notebook &`\n",
    "\n",
    "  Like this:\n",
    "  \n",
    "  <img src=\"fig/009-StartingJupyter01.png\" width=50%/>\n",
    "       \n",
    "  *Note:* We recommend to always start Jupyter from a folder high enough in your folder structure: you won't be able to easily move up from the starting point later. Make sure, however, that you are at the very least, at the *Course folder* level. \n",
    "  \n",
    "  In a few moments your default *Web Browser* will open to a new page that shows the entry point for the running Jupyter server that we have just started:\n",
    "\n",
    "  <img src=\"fig/009-StartingJupyter02.png\" width=50%/>\n",
    "  \n",
    "You can use that page to navigate your folder structure until you get to the *Course Folder*. Once you are seeing the contents of that folder, open the `01a_test_your_setup.ipynb` file and follow the instructions there. If errors appear try to go over the setup procedure again and if you are still having trouble ask for our help. "
   ]
  },
  {
   "cell_type": "markdown",
   "id": "bd7348d2",
   "metadata": {},
   "source": [
    "### Additional Remarks for Windows Users\n",
    "\n",
    "+ The terminal window that you used to start Jupyter should remain open during all the work session. **Be careful:** Closing it can make the server crash and you may lose part of your work.\n",
    "\n",
    "+ Remember to make external copies of the files in `fmad2223` before modifying them.\n",
    "\n",
    "+ When you are done with the setup checks use the `File` menu and then `Close and Halt` the notebook. If your browser asks for confirmation that you really want to close the page: don't worry, you can safely close it.\n",
    "\n",
    "+ Every time you finish working with Jupyter you should go back to the `Home Page` of the Jupyter server (the one which shows your folder structure) and use the `Quit` button on the top right side of that window to shutdown Jupyter. A popup window will appear to inform you that you should close that browser tab.\n",
    "\n",
    "+ Return to the terminal that you used to initiate Jupyter. You should now see some messsage confirming that the server is shut down. If you are done working in this Python environment, issue the command:\n",
    "\n",
    "  `conda deactivate`\n",
    "    \n",
    "  The prompt will change to indicate that you are back to the `base` conda environment. You can now close the terminal window as well if you wish. "
   ]
  },
  {
   "cell_type": "markdown",
   "id": "5a560157",
   "metadata": {},
   "source": [
    "## Alternative Setups <a name=\"AlternativeSetups\"></a>\n",
    "\n",
    "+ We have described how to set up your Windows machine using Anaconda Python, but you should know that there are other alternatives. For example, if you want a light weight setup without all the additional tools included with a full Ananconda setup, then you can consider [Miniconda](https://docs.conda.io/en/latest/miniconda.html). According to its official web site, miniconda is *a small, bootstrap version of Anaconda that includes only conda, Python, the packages they depend on, and a small number of other useful packages.* \n",
    "+ Both Anaconda and Miniconda are maintained by a commercial company, also called Anaconda. If you prefer a similar community based system you can take a look at [Miniforge](https://github.com/conda-forge/miniforge/#download), which is strongly associated with [Conda-Forge](https://conda-forge.org), a community driven GitHub organization containing repositories of conda recipes.\n",
    "+ Finally, we want to mention the standard Python versions from [www.python.org](https://www.python.org). Using this Python version requires a different management system for Python environments and libraries. We won't be using this system in this course, but if for some reason you must use it, please let us know in advance so that we can provide you with the information you will need. I"
   ]
  },
  {
   "cell_type": "markdown",
   "id": "ceb50c38",
   "metadata": {},
   "source": [
    "# Using Jupyter Notebooks"
   ]
  },
  {
   "cell_type": "markdown",
   "id": "ca123726",
   "metadata": {},
   "source": [
    "+ The document you are reading now was created as a Jupyter Notebook. That is the basic tool that we will be using in this course to write our Python code. To create and read Jupyter Notebooks we use web browsers.    \n",
    "\n",
    "+ A Jupyter notebook is structured in *cells*. There are two basic types of cells:\n",
    "    + *Code cells* where you write and execute Python code.\n",
    "    + *Markdown cells* that contain text, formulas, images, links that you can use to document the code. We will provide further information about markdown below. \n",
    "\n",
    "+ When you create a new notebook it will only contain (empty) code cells. You can convert any cell from code to markdown by selecting the cell and hiting the `M` key in your keyboard. You must be in Command mode to do this (see below). Converting the other way round (markdown to code) can be accomplished with the `Y` key. There are also menu options for type conversion in the `Cell` menu of the notebook interface.\n",
    "\n",
    "+ Every time you run or render the *last* cell of your notebook a new cell will be added below. If you need to insert more cells somewhere in the notebook you can use the *Insert* menu. But the keyboard shortcuts `A` and `B` can also be used to add new cells `A`bove or `B`elow the active cell. For this to work you need to be in command mode, to be explained in the next item.\n",
    "\n",
    "+ When using a Jupyter Notebook there is always an *active cell* which you can select with the mouse. The active cell (can be either code or markdown) is highlighted by a surrounding frame, and the color of frame indicates the *mode*:\n",
    "    + *Edit mode (green)*. The cursor blinks inside the cell and lets you modify the contents of the cell. That is, we use this mode to write code or markdown depending of the cell type.\n",
    "    + *Command mode (blue)*. This mode is used to operate on the contents of a cell as a whole. In this mode you can *run the code* in a code cell or you can *render the content* of a markdown cell. You can also use this mode to copy or move the cell, delete it, etc.\n",
    "    \n",
    "+ If you are in edit mode you can change to command mode hitting the `Esc` key (or clicking with your mouse outside the active cell). If you are in command mode you can change to edit mode with the `Enter` &#9166; key (or clicking inside the cell, double-click if it is not the active cell).\n",
    "\n",
    "+ To run or render the content of the cell:\n",
    "    + Make sure the cell is active (the mode is irrelevant).\n",
    "    + Use the key combination Shift + Enter (&#8679; + &#9166;)\n",
    "  If the cell contains Python code it will be executed. Keep in mind that if the code in that cell depends on the results of previous cells then they must also be executed beforehand. There are some useful options in the *Cell* menu of the notebook interface that will help you run the required parts of the notebook.\n",
    "\n",
    "+ Besides the ones we have described there are many useful commands and keyboard shortcuts to ease the use of notebooks. Take a look at the *Help* menu. In particular, make sure to look at the *Keyboard Shortcuts* section of that menu."
   ]
  },
  {
   "cell_type": "markdown",
   "id": "d58d0884",
   "metadata": {},
   "source": [
    "## Markdown\n",
    "\n",
    "+ Markdown is a very simple markup language that we use to modify the aspect of the text. For example, to make a sentence *render in italic* you just need to surround it with asterisks. And markdown is not specific of Jupyter notebooks. In fact its support is increasing as a basic tool for text formatting in many technical contexts. Learning the basics of markdown is a good idea. \n",
    "\n",
    "+ We recommend to open the source file of this or any other of the course Jupyter notebooks and look at some of the markdown cells (remember, use edit mode) to see how markdown was used to include sectioning commands (sections, subsections), figures, links, bullet lists, etc. If you know how to write $\\LaTeX$ ([you can get a first impression here](https://ashki23.github.io/markdown-latex.html#latex)) you can use it to include nice mathematical equations in your markdown cells:\n",
    "$$\\int_{-\\infty}^{\\infty}e^{-x^2}dx = \\sqrt{\\pi}$$\n",
    "By the way, the above result plays an important role in the normal distribution that we will be discussing soon.  \n",
    " *Note for Latex users.* you don't need a separate installation of LaTeX to use it in Jupyter notebooks, as it is provided by your browser through MathJax.\n",
    "+ There are many markdown tutorials, mostly equivalent. This recent one focuses on the use of markdown for Jupyter notebooks: [12 things to know about Jupyter Notebook Markdown, by Dayal Chand Aichara](https://medium.com/game-of-data/12-things-to-know-about-jupyter-notebook-markdown-3f6cef811707)"
   ]
  },
  {
   "cell_type": "markdown",
   "id": "732175ab",
   "metadata": {},
   "source": [
    "## Jupyter extensions\n",
    "\n",
    "+ If we need to install the extensions, please run this command:\n",
    "\n",
    "```\n",
    "conda install -n fmad jupyter_contrib_nbextensions\n",
    "```"
   ]
  }
 ],
 "metadata": {
  "kernelspec": {
   "display_name": "Python 3 (ipykernel)",
   "language": "python",
   "name": "python3"
  },
  "language_info": {
   "codemirror_mode": {
    "name": "ipython",
    "version": 3
   },
   "file_extension": ".py",
   "mimetype": "text/x-python",
   "name": "python",
   "nbconvert_exporter": "python",
   "pygments_lexer": "ipython3",
   "version": "3.10.5"
  },
  "toc": {
   "base_numbering": 1,
   "nav_menu": {},
   "number_sections": true,
   "sideBar": true,
   "skip_h1_title": false,
   "title_cell": "Table of Contents",
   "title_sidebar": "Contents",
   "toc_cell": false,
   "toc_position": {},
   "toc_section_display": true,
   "toc_window_display": false
  },
  "varInspector": {
   "cols": {
    "lenName": 16,
    "lenType": 16,
    "lenVar": 40
   },
   "kernels_config": {
    "python": {
     "delete_cmd_postfix": "",
     "delete_cmd_prefix": "del ",
     "library": "var_list.py",
     "varRefreshCmd": "print(var_dic_list())"
    },
    "r": {
     "delete_cmd_postfix": ") ",
     "delete_cmd_prefix": "rm(",
     "library": "var_list.r",
     "varRefreshCmd": "cat(var_dic_list()) "
    }
   },
   "types_to_exclude": [
    "module",
    "function",
    "builtin_function_or_method",
    "instance",
    "_Feature"
   ],
   "window_display": true
  }
 },
 "nbformat": 4,
 "nbformat_minor": 5
}
